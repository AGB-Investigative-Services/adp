{
 "cells": [
  {
   "cell_type": "code",
   "execution_count": null,
   "metadata": {},
   "outputs": [],
   "source": [
    "# DataFrame handlers\n",
    "import pandas as pd\n",
    "import os\n",
    "import numpy as np\n",
    "\n",
    "# json\n",
    "import json\n",
    "\n",
    "# Datetime Manager\n",
    "from datetime import datetime as dt\n",
    "from datetime import timedelta, time, date\n",
    "\n",
    "\n",
    "# data = pd.read_csv('resources/data/Performance Reviews Report.csv', encoding='ISO-8859-1', low_memory=False)\n",
    "data = pd.read_csv('resources/data/Performance Reviews Report.csv')\n",
    "\n",
    "# (https://www.dataquest.io/blog/settingwithcopywarning/) To prevent the warning in this case, the solution is to explicitly tell pandas to make a copy when we create the new dataframe:  .copy()\n",
    "\n",
    "# Filtered main dataset for '30 Day New Hire Review' on column 'Review Name'\n",
    "day30 = data.loc[data['Review Name'] == '30 Day New Hire Review',:].copy()\n",
    "day30.shape\n",
    "\n",
    "# Less efficient way\n",
    "# reviewer['Status'] = reviewer['Review Progress'].replace('Not Yet Submitted', 'Not Completed')\n",
    "# reviewer['Status'] = reviewer['Review Progress'].replace('Error in Distribution', 'Not Completed')\n",
    "# reviewer['Status'] = reviewer['Review Progress'].replace('Terminated', 'Terminated')\n",
    "# reviewer['Status'] = reviewer['Review Progress'].replace('Delivered to Employee', 'Completed')\n",
    "# reviewer['Status'] = reviewer['Review Progress'].replace('Finalized', 'Not Pushed')\n",
    "# reviewer['Status'] = reviewer['Review Progress'].replace('Employee Acknowledged', 'Completed')\n",
    "# reviewer['Status']\n",
    "\n",
    "# Filtered day30 dataframe for 'Reviewer' on column 'Contributor'\n",
    "reviewer = day30.loc[day30['Contributor Role'] == 'Reviewer',:].copy()\n",
    "reviewer.reset_index(inplace=True, drop=True)\n",
    "reviewer.shape\n",
    "\n",
    "reviewer.loc[reviewer['Review Progress'].isnull(),'Review Progress'] = 'No Status'\n",
    "reviewer\n",
    "\n",
    "prog_list = reviewer['Review Progress'].tolist()\n",
    "\n",
    "prog = []\n",
    "\n",
    "# for status in reviewer['Review Progress']:\n",
    "for status in prog_list:\n",
    "    if status == 'Not Yet Submitted':\n",
    "        a = 'Not Completed'\n",
    "        prog.append(a)\n",
    "    elif status == 'Error in Distribution':\n",
    "        b = 'Not Completed'\n",
    "        prog.append(b)\n",
    "    elif status == 'Terminated':\n",
    "        c = 'Terminated'\n",
    "        prog.append(c)\n",
    "    elif status == 'Delivered to Employee':\n",
    "        d = 'Completed'\n",
    "        prog.append(d)\n",
    "    elif status == 'Finalized':\n",
    "        e = 'Not Pushed'\n",
    "        prog.append(e)\n",
    "    elif status == 'Employee Acknowledged':\n",
    "        f = 'Completed'\n",
    "        prog.append(f)\n",
    "    elif status == 'No Status':\n",
    "        g = 'Not Completed'\n",
    "        prog.append(g)\n",
    "    elif status == 'Not Distributed':\n",
    "        h = 'Not Completed'\n",
    "        prog.append(h)\n",
    "    elif status == 'Pending Approval':\n",
    "        i = 'Not Completed'\n",
    "        prog.append(i)\n",
    "\n",
    "reviewer['Status'] = prog\n",
    "reviewer.shape\n",
    "\n",
    "reviewer['Position Start Date'] = pd.to_datetime(reviewer['Position Start Date'])\n",
    "reviewer['Review Due Date'] = pd.to_datetime(reviewer['Review Due Date'])\n",
    "\n",
    "reviewer['Target Start Due Date (30 Days)'] = reviewer['Position Start Date'] + timedelta(days=30)\n",
    "reviewer.shape"
   ]
  },
  {
   "cell_type": "code",
   "execution_count": null,
   "metadata": {},
   "outputs": [],
   "source": [
    "reviewer[['Contributor Role','Position Start Date', 'Target Start Due Date (30 Days)','Target Review Completion Date','Review Due Date','Review Period Start Date', 'Review Period End Date']].head(3)"
   ]
  },
  {
   "cell_type": "code",
   "execution_count": null,
   "metadata": {},
   "outputs": [],
   "source": [
    "reviewer[[ 'Review Due Date', 'Target Start Due Date (30 Days)', 'Status']].head(3)"
   ]
  },
  {
   "cell_type": "code",
   "execution_count": null,
   "metadata": {},
   "outputs": [],
   "source": [
    "a < b & b > a"
   ]
  },
  {
   "cell_type": "code",
   "execution_count": null,
   "metadata": {},
   "outputs": [],
   "source": [
    "reviewer['Goal Status'] = ''\n",
    "\n",
    "reviewer.loc[((reviewer['Target Start Due Date (30 Days)'] < reviewer['Review Due Date']) & (reviewer['Review Due Date'] > reviewer['Target Start Due Date (30 Days)']) & (reviewer['Status'] == 'Completed')), 'Goal Status' ] = 'Met'\n",
    "# reviewer.loc[((reviewer['Target Due Date'] > reviewer['Review Due Date']) & (reviewer['Status'] == 'Completed')), 'Goal Status' ] = 'Met'\n",
    "reviewer"
   ]
  },
  {
   "cell_type": "code",
   "execution_count": null,
   "metadata": {},
   "outputs": [],
   "source": [
    "reviewer.loc[reviewer['Status'] == 'Completed'].head(50)"
   ]
  },
  {
   "cell_type": "code",
   "execution_count": null,
   "metadata": {},
   "outputs": [],
   "source": [
    "data['Review Name'].value_counts() # Create two more datatable for 90 Day..., and 180 Day...,\n",
    "# An Additional dataframe for Manager, Admin...  and Post positional"
   ]
  },
  {
   "cell_type": "markdown",
   "metadata": {},
   "source": [
    "# Add Timestamp column with API data of column \"Review Detail Status\""
   ]
  },
  {
   "cell_type": "code",
   "execution_count": null,
   "metadata": {},
   "outputs": [],
   "source": []
  }
 ],
 "metadata": {
  "kernelspec": {
   "display_name": "Python 3",
   "language": "python",
   "name": "python3"
  },
  "language_info": {
   "codemirror_mode": {
    "name": "ipython",
    "version": 3
   },
   "file_extension": ".py",
   "mimetype": "text/x-python",
   "name": "python",
   "nbconvert_exporter": "python",
   "pygments_lexer": "ipython3",
   "version": "3.7.4"
  }
 },
 "nbformat": 4,
 "nbformat_minor": 4
}
