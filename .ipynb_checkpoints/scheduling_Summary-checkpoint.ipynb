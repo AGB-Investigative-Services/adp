{
 "cells": [
  {
   "cell_type": "markdown",
   "metadata": {},
   "source": [
    "Scheduling Summary"
   ]
  },
  {
   "cell_type": "code",
   "execution_count": 39,
   "metadata": {},
   "outputs": [],
   "source": [
    "import pandas as pd\n",
    "import os\n",
    "import numpy as np\n",
    "import json\n",
    "\n",
    "from datetime import datetime as dt\n",
    "from datetime import timedelta, time, date\n",
    "\n",
    "\n",
    "data = pd.read_excel('resources/data/Scheduling Summary.xlsx', index_col=0, header=0)\n",
    "data_index = data.reset_index()\n",
    "\n",
    "data_index['Full Name'] = data_index['First Name'] + ' ' + data_index['Last Name']\n",
    "\n",
    "today = dt.today().strftime(\"%m/%d/%Y\")\n",
    "\n",
    "date_obj = dt.strptime(today, \"%m/%d/%Y\")\n",
    "\n",
    "\n",
    "weekday_monday = date_obj - timedelta(days=date_obj.weekday())  # Monday\n",
    "\n",
    "\n",
    "start_of_week = weekday_monday - timedelta(days=1)\n",
    "data_index['Start of Week Date'] = start_of_week.strftime(\"%m/%d/%Y\")"
   ]
  },
  {
   "cell_type": "code",
   "execution_count": null,
   "metadata": {},
   "outputs": [],
   "source": [
    "data_json = data.to_json('....', orient=\"records\")\n",
    "data_json = data.to_json(orient=\"records\")\n",
    "\n",
    "parsed = json.loads(data_json)\n",
    "print(json.dumps(parsed, indent=4))"
   ]
  },
  {
   "cell_type": "code",
   "execution_count": null,
   "metadata": {},
   "outputs": [],
   "source": []
  }
 ],
 "metadata": {
  "kernelspec": {
   "display_name": "Python 3",
   "language": "python",
   "name": "python3"
  },
  "language_info": {
   "codemirror_mode": {
    "name": "ipython",
    "version": 3
   },
   "file_extension": ".py",
   "mimetype": "text/x-python",
   "name": "python",
   "nbconvert_exporter": "python",
   "pygments_lexer": "ipython3",
   "version": "3.7.4"
  }
 },
 "nbformat": 4,
 "nbformat_minor": 4
}
