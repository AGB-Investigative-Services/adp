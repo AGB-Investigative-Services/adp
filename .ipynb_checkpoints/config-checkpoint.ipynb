{
 "cells": [
  {
   "cell_type": "code",
   "execution_count": 1,
   "metadata": {},
   "outputs": [
    {
     "ename": "ModuleNotFoundError",
     "evalue": "No module named 'connectionconfiguration'",
     "output_type": "error",
     "traceback": [
      "\u001b[1;31m---------------------------------------------------------------------------\u001b[0m",
      "\u001b[1;31mModuleNotFoundError\u001b[0m                       Traceback (most recent call last)",
      "\u001b[1;32m<ipython-input-1-ea58eb80f81b>\u001b[0m in \u001b[0;36m<module>\u001b[1;34m\u001b[0m\n\u001b[0;32m      1\u001b[0m \u001b[1;32mimport\u001b[0m \u001b[0msys\u001b[0m\u001b[1;33m\u001b[0m\u001b[1;33m\u001b[0m\u001b[0m\n\u001b[0;32m      2\u001b[0m \u001b[1;32mfrom\u001b[0m \u001b[0mos\u001b[0m \u001b[1;32mimport\u001b[0m \u001b[0mcurdir\u001b[0m\u001b[1;33m,\u001b[0m \u001b[0msep\u001b[0m\u001b[1;33m\u001b[0m\u001b[1;33m\u001b[0m\u001b[0m\n\u001b[1;32m----> 3\u001b[1;33m \u001b[1;32mfrom\u001b[0m \u001b[0madp_connection\u001b[0m\u001b[1;33m.\u001b[0m\u001b[0mlib\u001b[0m \u001b[1;32mimport\u001b[0m \u001b[1;33m*\u001b[0m\u001b[1;33m\u001b[0m\u001b[1;33m\u001b[0m\u001b[0m\n\u001b[0m\u001b[0;32m      4\u001b[0m \u001b[1;33m\u001b[0m\u001b[0m\n\u001b[0;32m      5\u001b[0m \u001b[1;31m# Create the config dictionary variable\u001b[0m\u001b[1;33m\u001b[0m\u001b[1;33m\u001b[0m\u001b[1;33m\u001b[0m\u001b[0m\n",
      "\u001b[1;32m~\\ADP\\adp\\adp_connection\\lib\\__init__.py\u001b[0m in \u001b[0;36m<module>\u001b[1;34m\u001b[0m\n\u001b[0;32m     19\u001b[0m \u001b[1;31m# governing permissions and limitations under the License.\u001b[0m\u001b[1;33m\u001b[0m\u001b[1;33m\u001b[0m\u001b[1;33m\u001b[0m\u001b[0m\n\u001b[0;32m     20\u001b[0m \u001b[1;33m\u001b[0m\u001b[0m\n\u001b[1;32m---> 21\u001b[1;33m \u001b[1;32mfrom\u001b[0m \u001b[0mconnectionconfiguration\u001b[0m \u001b[1;32mimport\u001b[0m \u001b[1;33m*\u001b[0m\u001b[1;33m\u001b[0m\u001b[1;33m\u001b[0m\u001b[0m\n\u001b[0m\u001b[0;32m     22\u001b[0m \u001b[1;32mfrom\u001b[0m \u001b[0madpapiconnection\u001b[0m \u001b[1;32mimport\u001b[0m \u001b[1;33m*\u001b[0m\u001b[1;33m\u001b[0m\u001b[1;33m\u001b[0m\u001b[0m\n\u001b[0;32m     23\u001b[0m \u001b[1;32mfrom\u001b[0m \u001b[0mconnectexceptions\u001b[0m \u001b[1;32mimport\u001b[0m \u001b[1;33m*\u001b[0m\u001b[1;33m\u001b[0m\u001b[1;33m\u001b[0m\u001b[0m\n",
      "\u001b[1;31mModuleNotFoundError\u001b[0m: No module named 'connectionconfiguration'"
     ]
    }
   ],
   "source": [
    "import sys\n",
    "from os import curdir, sep\n",
    "from adp_connection.lib import *\n",
    "\n",
    "# Create the config dictionary variable\n",
    "config = dict({})\n",
    "config['clientID'] = '167039f2-1967-46f7-8f10-fadae43b1b03'\n",
    "config['clientSecret'] = '10f82889-ded5-4efe-bc7f-cb8bcb7755eb'\n",
    "config['sslCertPath'] = 'certs/AGBInvestigativeServicesSSL.pem'\n",
    "config['sslKeyPath'] = 'certs/abg_investigative_services.key'\n",
    "config['tokenServerURL'] = 'https://api.adp.com/auth/oauth/v2/token'\n",
    "config['disconnectURL'] = 'https://accounts.adp.com/auth/oauth/v2/logout'\n",
    "config['apiRequestURL'] = 'https://api.adp.com'\n",
    "config['grantType'] = 'client_credentials'\n",
    "\n",
    "# Initialize the Connection Configuration Object.\n",
    "# Since the grant type is client_credentials a\n",
    "# ClientCredentialsConfiguration object is returned\n",
    "try:\n",
    "    ClientCredentialsConfiguration = ConnectionConfiguration().init(config)\n",
    "\n",
    "    # Using the new configuration object create a connection\n",
    "    ccConnection = ADPAPIConnectionFactory().createConnection(ClientCredentialsConfiguration)\n",
    "\n",
    "    resp = ''\n",
    "\n",
    "    # try to connect and send the response back\n",
    "    ccConnection.connect()\n",
    "    if (ccConnection.isConnectedIndicator()):\n",
    "\n",
    "        # A successful connection generates a UUID as a session identifier\n",
    "        # which can be retrieved using the getSessionState() method call on\n",
    "        # the connection. There is also provision to set a user-defined\n",
    "        # session identifier using the setSessionState(string) method call on\n",
    "        # the connection. This should be done after a connection has been\n",
    "        # obtained from the connection factory, but before calling connect()\n",
    "        #\n",
    "        # We can use the session identifier as a key to store the connection\n",
    "        # into the global connection dictionary for later retrieval on\n",
    "        # subsequent requests\n",
    "        self.connectionDict[ccConnection.getSessionState()] = ccConnection\n",
    "        print ('Connected!')\n",
    "        print ('access token: ' + ccConnection.getAccessToken())\n",
    "        print ('expiration: ' + ccConnection.getExpiration().strftime(\"%Y-%m-%d %H:%M:%S\"))\n",
    "        print ('session state:' + ccConnection.getSessionState())\n",
    "    else:\n",
    "        resp = '<b>Not Connected!</b>'\n",
    "except ConfigError as conferr:\n",
    "    print (confErr.code + ': ' + conferr.msg)\n",
    "except ConnectError as connecterr:\n",
    "    print (connecterr.code + ': ' + connecterr.msg)\n",
    "except:\n",
    "    print (\"Unexpected error:\", str(sys.exc_info()))"
   ]
  },
  {
   "cell_type": "code",
   "execution_count": null,
   "metadata": {},
   "outputs": [],
   "source": []
  }
 ],
 "metadata": {
  "kernelspec": {
   "display_name": "Python 3",
   "language": "python",
   "name": "python3"
  },
  "language_info": {
   "codemirror_mode": {
    "name": "ipython",
    "version": 3
   },
   "file_extension": ".py",
   "mimetype": "text/x-python",
   "name": "python",
   "nbconvert_exporter": "python",
   "pygments_lexer": "ipython3",
   "version": "3.7.4"
  }
 },
 "nbformat": 4,
 "nbformat_minor": 4
}
