{
 "cells": [
  {
   "cell_type": "code",
   "execution_count": null,
   "metadata": {},
   "outputs": [],
   "source": [
    "# DataFrame handlers\n",
    "import pandas as pd\n",
    "import os\n",
    "import numpy as np\n",
    "\n",
    "# JSON\n",
    "import json\n",
    "\n",
    "# Datetime Manager\n",
    "from datetime import datetime as dt\n",
    "from datetime import timedelta, time, date\n",
    "\n",
    "#data - pd.read_csv('File Location/File Name')\n",
    "data = pd.read_csv('resources/data/Recreation.csv')\n",
    "\n",
    "data.to_json('resources/data/Recreation.json', orient='records')\n",
    "data_json = data.to_json(orient='records')\n",
    "parsed = json.loads(data_json)\n",
    "print(json.dumps(parsed, indent=4))\n",
    "\n",
    "data.shape\n",
    "\n",
    "data['License/Certification Description'].value_counts()\n",
    "\n",
    "data['Position Status'].value_counts()\n",
    "\n",
    "data['Job Title Description'].value_counts()\n",
    "\n",
    "status = data.loc[data['Position Status'] == 'Active',:]\n",
    "status.reset_index(inplace=True, drop=True)\n",
    "status.shape\n",
    "\n",
    "armed = status.loc[status['Job Title Description'] == 'Armed Security Officer',:]\n",
    "armed.reset_index(inplace=True, drop=True)\n",
    "armed.shape\n",
    "\n",
    "job_list = armed['Job Title Description'].tolist()\n",
    "\n",
    "armed['License/Certification Description']\n",
    "\n",
    "data['Expiration Date'] = pd.to_datetime(data['Expiration Date']).dt.strftime('%Y-%m-%d')\n",
    "\n",
    "data['Effective Date'] = pd.to_datetime(data['Effective Date']).dt.strftime('%Y-%m-%d')\n",
    "\n",
    "data\n",
    "\n",
    "data.to_json('resources/data/Recreation.json', orient='records')\n",
    "data_json = data.to_json(orient='records')\n",
    "parsed = json.loads(data_json)\n",
    "print(json.dumps(parsed, indent=4))"
   ]
  }
 ],
 "metadata": {
  "kernelspec": {
   "display_name": "Python 3",
   "language": "python",
   "name": "python3"
  },
  "language_info": {
   "codemirror_mode": {
    "name": "ipython",
    "version": 3
   },
   "file_extension": ".py",
   "mimetype": "text/x-python",
   "name": "python",
   "nbconvert_exporter": "python",
   "pygments_lexer": "ipython3",
   "version": "3.8.3"
  }
 },
 "nbformat": 4,
 "nbformat_minor": 4
}
