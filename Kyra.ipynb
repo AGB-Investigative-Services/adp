{
 "cells": [
  {
   "cell_type": "markdown",
   "metadata": {},
   "source": [
    "Track Tik: Time Approval Report"
   ]
  },
  {
   "cell_type": "code",
   "execution_count": 5,
   "metadata": {},
   "outputs": [],
   "source": [
    "import pandas as pd\n",
    "import os\n",
    "import numpy as np\n",
    "import json\n",
    "\n",
    "# Reading CSV\n",
    "\n",
    "data = pd.read_csv('resources/data/Time Approval Report.csv', encoding='ISO-8859-1')\n"
   ]
  },
  {
   "cell_type": "code",
   "execution_count": 6,
   "metadata": {},
   "outputs": [
    {
     "name": "stdout",
     "output_type": "stream",
     "text": [
      "                     Account                         Position   Eid  \\\n",
      "0                     Lowden           Armed Security Officer  4181   \n",
      "1                     Lowden           Armed Security Officer  1389   \n",
      "2               51st Calumet  Armed Security Officer (Driver)   552   \n",
      "3               51st Calumet           Armed Security Officer   769   \n",
      "4           Fleet Department             Fleet Representative  1357   \n",
      "...                      ...                              ...   ...   \n",
      "3808         Minnie Riperton         Unarmed Security Officer  4168   \n",
      "3809  Kenneth Campbell Homes         Unarmed Security Officer    86   \n",
      "3810     Lawrence Apartments         Unarmed Security Officer   492   \n",
      "3811      Mary J  Richardson         Unarmed Security Officer  1055   \n",
      "3812            Noble Square                        Concierge   525   \n",
      "\n",
      "                  Name  Pay Rate      Rate Level  Start Date    End Date  \\\n",
      "0      Darnell Gibbons      15.5   position_rate  10/31/2020  11/01/2020   \n",
      "1        Rashad Thomas      15.5   position_rate  10/31/2020  11/01/2020   \n",
      "2           Hakeem Guy      15.5   position_rate  10/31/2020  11/01/2020   \n",
      "3         Michael Love      15.5   position_rate  10/31/2020  11/01/2020   \n",
      "4      Demarius Heatly      14.0  site_user_rate  10/31/2020  11/01/2020   \n",
      "...                ...       ...             ...         ...         ...   \n",
      "3808     Charles McKee      14.0   position_rate  11/25/2020  11/25/2020   \n",
      "3809     Leslie Childs      14.0   position_rate  11/25/2020  11/25/2020   \n",
      "3810    Annette Warner      14.0   position_rate  11/25/2020  11/25/2020   \n",
      "3811    Kizzie Shelton      14.0   position_rate  11/25/2020  11/25/2020   \n",
      "3812  Lashawne Johnson      14.0   position_rate  11/25/2020  11/25/2020   \n",
      "\n",
      "          Time                   Clocked Shifts  ...  Billing Holiday  \\\n",
      "0      5pm-3am                  05:04pm-03:00am  ...                N   \n",
      "1      5pm-3am                  05:01pm-03:00am  ...                N   \n",
      "2      6pm-2am                  06:00pm-02:00am  ...                N   \n",
      "3      6pm-2am                  06:00pm-02:00am  ...                N   \n",
      "4      9pm-5am                  09:03pm-05:00am  ...                N   \n",
      "...        ...                              ...  ...              ...   \n",
      "3808  12am-8am                  12:36am-08:00am  ...                N   \n",
      "3809  12am-8am                  12:00am-08:00am  ...                N   \n",
      "3810  12am-8am  12:00am-07:59am 08:02am-08:03am  ...                N   \n",
      "3811  12am-8am                  12:02am-08:07am  ...                N   \n",
      "3812  12am-8am                  12:00am-08:00am  ...                N   \n",
      "\n",
      "      Payroll Holiday  Approved Hours  Overwrite Billing Hours  \\\n",
      "0                   N           10.93                    10.93   \n",
      "1                   N           10.98                    10.98   \n",
      "2                   N            9.00                     9.00   \n",
      "3                   N            9.00                     9.00   \n",
      "4                   N            8.95                     8.95   \n",
      "...               ...             ...                      ...   \n",
      "3808                N            7.41                     7.41   \n",
      "3809                N            8.00                     8.00   \n",
      "3810                N            7.99                     7.99   \n",
      "3811                N            8.08                     8.08   \n",
      "3812                N            8.00                     8.00   \n",
      "\n",
      "     Overwrite Payroll Hours Actual Billing Hours  Actual Payroll Hours  \\\n",
      "0                      10.93                10.93                 10.93   \n",
      "1                      10.98                10.98                 10.98   \n",
      "2                       9.00                 9.00                  9.00   \n",
      "3                       9.00                 9.00                  9.00   \n",
      "4                       8.95                 8.95                  8.95   \n",
      "...                      ...                  ...                   ...   \n",
      "3808                    7.41                 7.41                  7.41   \n",
      "3809                    8.00                 8.00                  8.00   \n",
      "3810                    7.99                 7.99                  7.99   \n",
      "3811                    8.08                 8.08                  8.08   \n",
      "3812                    8.00                 8.00                  8.00   \n",
      "\n",
      "      Bill Item  Bill Rate                                        Shift Notes  \n",
      "0           SO2      27.61  Manual Time Edit\\n\\nDanielle Cross 11/01/2020 ...  \n",
      "1           SO2      27.61  Manual Time Edit\\n\\n  11/01/2020 10:37am\\n\\nTi...  \n",
      "2           SO2      27.61  Manual Time added\\n\\n  11/01/2020 08:50am\\n\\nT...  \n",
      "3           SO2      27.61  Manual Time Edit\\n\\n  11/01/2020 08:50am\\n\\nTi...  \n",
      "4       Not Set        NaN  Time approval was modified by Samara Williams:...  \n",
      "...         ...        ...                                                ...  \n",
      "3808        SO1      24.63  Time approval was modified by Danielle Cross:\\...  \n",
      "3809        SO1      24.63  Manual Time added\\n\\n  11/25/2020 09:54am\\n\\nT...  \n",
      "3810        SO1      24.63  Manual Time Edit\\n\\nOriginal Start Time: 11/25...  \n",
      "3811        SO1      24.63  Manual Time Edit\\n\\nOriginal Start Time: 11/25...  \n",
      "3812        SO1      18.55  Time approval was modified by Danielle Cross:\\...  \n",
      "\n",
      "[3813 rows x 24 columns]\n"
     ]
    }
   ],
   "source": [
    "print(data)\n"
   ]
  },
  {
   "cell_type": "code",
   "execution_count": 17,
   "metadata": {},
   "outputs": [
    {
     "data": {
      "image/png": "[encoded data removed]",
      "text/plain": [
       "<Figure size 432x288 with 1 Axes>"
      ]
     },
     "metadata": {
      "needs_background": "light"
     },
     "output_type": "display_data"
    }
   ],
   "source": [
    "barchart = data.plot.bar(x=\"Account\", y=\"Approved Hours\", rot=0)"
   ]
  },
  {
   "cell_type": "code",
   "execution_count": null,
   "metadata": {},
   "outputs": [],
   "source": []
  }
 ],
 "metadata": {
  "kernelspec": {
   "display_name": "Python 3",
   "language": "python",
   "name": "python3"
  },
  "language_info": {
   "codemirror_mode": {
    "name": "ipython",
    "version": 3
   },
   "file_extension": ".py",
   "mimetype": "text/x-python",
   "name": "python",
   "nbconvert_exporter": "python",
   "pygments_lexer": "ipython3",
   "version": "3.8.3"
  }
 },
 "nbformat": 4,
 "nbformat_minor": 4
}
